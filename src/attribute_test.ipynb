{
 "cells": [
  {
   "cell_type": "code",
   "execution_count": 26,
   "metadata": {},
   "outputs": [],
   "source": [
    "import io\n",
    "import uuid\n",
    "from xml.etree import ElementTree\n",
    "import requests\n",
    "import pymarc\n",
    "import scipy.stats as st\n",
    "from matplotlib import colors\n",
    "import numpy as np\n",
    "import datetime\n",
    "import csv\n",
    "import matplotlib.gridspec as gridspec\n",
    "\n",
    "\n",
    "\n",
    "\n",
    "from rdflib import Graph, ConjunctiveGraph, Namespace, OWL, Literal, URIRef, BNode, XSD, RDFS, RDF\n",
    "from rdfalchemy import rdfSubject, rdfSingle, rdfMultiple\n",
    "from SPARQLWrapper import SPARQLWrapper, JSON\n",
    "\n",
    "\n",
    "import networkx as nx\n",
    "from cdlib import algorithms\n",
    "import matplotlib.pyplot as plt\n",
    "from cdlib import evaluation\n",
    "\n",
    "from cdlib.algorithms import louvain\n",
    "from cdlib import algorithms, viz\n",
    "\n",
    "\n",
    "\n",
    "bio = Namespace(\"http://purl.org/vocab/bio/0.1/\")\n",
    "schema = Namespace('http://schema.org/')\n",
    "sem = Namespace('http://semanticweb.cs.vu.nl/2009/11/sem/')\n",
    "pnv = Namespace('https://w3id.org/pnv#')"
   ]
  },
  {
   "cell_type": "code",
   "execution_count": 27,
   "metadata": {},
   "outputs": [
    {
     "name": "stdout",
     "output_type": "stream",
     "text": [
      "Graph g has 34770 statements.\n"
     ]
    }
   ],
   "source": [
    "# Create a Graph\n",
    "g = Graph()\n",
    "\n",
    "# Parse in the RDF (.ttl) file \n",
    "g.parse(\"./data/all-schema-ecartico.ttl.txt\")\n",
    "\n",
    "# Loop through each triple in the graph (subj, pred, obj)\n",
    "for subj, pred, obj in g:\n",
    "    # Check if there is at least one triple in the Graph\n",
    "    if (subj, pred, obj) not in g:\n",
    "       raise Exception(\"Something went wrong!\")\n",
    "\n",
    "# Print the number of \"triples\" in the Graph\n",
    "print(f\"Graph g has {len(g)} statements.\")"
   ]
  },
  {
   "cell_type": "markdown",
   "metadata": {},
   "source": [
    "<h1> Attribute Queries </h1>"
   ]
  },
  {
   "cell_type": "code",
   "execution_count": 29,
   "metadata": {},
   "outputs": [],
   "source": [
    "sparql = SPARQLWrapper(\"https://sparql.goldenagents.org/sparql\")\n",
    "sparql.setQuery (\"\"\" PREFIX rdf: <http://www.w3.org/1999/02/22-rdf-syntax-ns#>\n",
    "PREFIX rdfs: <http://www.w3.org/2000/01/rdf-schema#>\n",
    "PREFIX schema: <http://schema.org/>\n",
    "\n",
    "SELECT * WHERE {\n",
    "\n",
    "{\n",
    "  GRAPH <https://data.goldenagents.org/datasets/u692bc364e9d7fa97b3510c6c0c8f2bb9a0e5123b/ecartico_20211014> {\n",
    "    ?person a schema:Person ;\n",
    "        schema:birthDate ?birthDate .\n",
    "    }\n",
    "  }\n",
    "  UNION {\n",
    "    GRAPH <https://data.goldenagents.org/datasets/u692bc364e9d7fa97b3510c6c0c8f2bb9a0e5123b/ecartico_20211014> {\n",
    "      ?person a schema:Person ;\n",
    "         schema:birthDate [ a schema:StructuredValue ;\n",
    "                            rdf:value ?birthDate ] .\n",
    "      }\n",
    "    } \n",
    "} \n",
    "\"\"\"\n",
    ")\n",
    "sparql.setReturnFormat(JSON)\n",
    "results = sparql.query().convert()\n"
   ]
  },
  {
   "cell_type": "code",
   "execution_count": 30,
   "metadata": {},
   "outputs": [],
   "source": [
    "sparql.setQuery (\"\"\"\n",
    "\n",
    "PREFIX rdf: <http://www.w3.org/1999/02/22-rdf-syntax-ns#>\n",
    "PREFIX rdfs: <http://www.w3.org/2000/01/rdf-schema#>\n",
    "PREFIX schema: <http://schema.org/>\n",
    "PREFIX ecartico: <http://www.vondel.humanities.uva.nl/ecartico/lod/vocab/#>\n",
    "\n",
    "SELECT * WHERE {\n",
    "\n",
    "  GRAPH <https://data.goldenagents.org/datasets/u692bc364e9d7fa97b3510c6c0c8f2bb9a0e5123b/ecartico_20211014> {\n",
    "    ?person a schema:Person ;\n",
    "        ecartico:religion ?religionName .\n",
    "  }\n",
    " \n",
    "} \n",
    "\"\"\")\n",
    "\n",
    "sparql.setReturnFormat(JSON)\n",
    "results = sparql.query().convert()"
   ]
  },
  {
   "cell_type": "code",
   "execution_count": 33,
   "metadata": {},
   "outputs": [],
   "source": [
    "sparql.setQuery (\"\"\"\n",
    "\n",
    "PREFIX rdf: <http://www.w3.org/1999/02/22-rdf-syntax-ns#>\n",
    "PREFIX rdfs: <http://www.w3.org/2000/01/rdf-schema#>\n",
    "PREFIX schema: <http://schema.org/>\n",
    "\n",
    "SELECT * WHERE {\n",
    "\n",
    "  GRAPH <https://data.goldenagents.org/datasets/u692bc364e9d7fa97b3510c6c0c8f2bb9a0e5123b/ecartico_20211014> {\n",
    "    ?person a schema:Person ;\n",
    "        schema:birthPlace ?birthPlace .\n",
    "   \n",
    "    ?birthPlace a schema:Place ;\n",
    "        schema:name ?birthPlaceName .\n",
    "  }\n",
    " \n",
    "}\n",
    "\"\"\")\n",
    "\n",
    "sparql.setReturnFormat(JSON)\n",
    "results = sparql.query().convert()\n",
    "\n"
   ]
  },
  {
   "cell_type": "code",
   "execution_count": 35,
   "metadata": {},
   "outputs": [],
   "source": [
    "sparql.setQuery (\"\"\"\n",
    "PREFIX rdf: <http://www.w3.org/1999/02/22-rdf-syntax-ns#>\n",
    "PREFIX rdfs: <http://www.w3.org/2000/01/rdf-schema#>\n",
    "PREFIX schema: <http://schema.org/>\n",
    "\n",
    "SELECT * WHERE {\n",
    "\n",
    "  GRAPH <https://data.goldenagents.org/datasets/u692bc364e9d7fa97b3510c6c0c8f2bb9a0e5123b/ecartico_20211014> {\n",
    "    ?person a schema:Person ;\n",
    "        schema:hasOccupation [ a schema:Role ;\n",
    "                               schema:hasOccupation ?occupation ] .\n",
    "   \n",
    "    ?occupation a schema:Occupation ;\n",
    "        schema:name ?occupationName .\n",
    "   \n",
    "    FILTER(LANG(?occupationName) = 'en')\n",
    "   \n",
    "  }\n",
    " \n",
    "}\n",
    "\"\"\")\n",
    "\n",
    "sparql.setReturnFormat(JSON)\n",
    "results = sparql.query().convert()\n",
    "\n",
    "\n"
   ]
  },
  {
   "cell_type": "code",
   "execution_count": 37,
   "metadata": {},
   "outputs": [],
   "source": [
    "sparql.setQuery (\"\"\"\n",
    "PREFIX rdf: <http://www.w3.org/1999/02/22-rdf-syntax-ns#>\n",
    "PREFIX rdfs: <http://www.w3.org/2000/01/rdf-schema#>\n",
    "PREFIX schema: <http://schema.org/>\n",
    "\n",
    "SELECT * WHERE {\n",
    "\n",
    "  GRAPH <https://data.goldenagents.org/datasets/u692bc364e9d7fa97b3510c6c0c8f2bb9a0e5123b/ecartico_20211014> {\n",
    "    ?person a schema:Person .\n",
    "    \n",
    "    OPTIONAL { ?person schema:parent ?parent . }\n",
    "    OPTIONAL { ?person schema:children ?child . }\n",
    "    \n",
    "    }      \n",
    "  \n",
    "}\n",
    "\"\"\")\n",
    "\n",
    "sparql.setReturnFormat(JSON)\n",
    "results = sparql.query().convert()\n",
    "\n"
   ]
  },
  {
   "cell_type": "code",
   "execution_count": 42,
   "metadata": {},
   "outputs": [],
   "source": [
    "sparql.setQuery (\"\"\"\n",
    "\n",
    "PREFIX rdf: <http://www.w3.org/1999/02/22-rdf-syntax-ns#>\n",
    "PREFIX rdfs: <http://www.w3.org/2000/01/rdf-schema#>\n",
    "PREFIX schema: <http://schema.org/>\n",
    "PREFIX ecartico: <http://www.vondel.humanities.uva.nl/ecartico/lod/vocab/#>\n",
    "\n",
    "SELECT * WHERE {\n",
    "\n",
    "  GRAPH <https://data.goldenagents.org/datasets/u692bc364e9d7fa97b3510c6c0c8f2bb9a0e5123b/ecartico_20211014> {\n",
    "    ?person a schema:Person ;\n",
    "  \t\t  ?relation [ a schema:Role ;\n",
    "                    ?relation ?relatedPerson ] .\n",
    "      \n",
    "    ?relatedPerson a schema:Person .\n",
    "  \t\t\n",
    "    ?relation rdfs:subPropertyOf ecartico:hasRelationWith .\n",
    "    \n",
    "    }      \n",
    "  \n",
    "}\n",
    "\"\"\")\n",
    "\n",
    "sparql.setReturnFormat(JSON)\n",
    "results = sparql.query().convert()\n",
    "\n"
   ]
  },
  {
   "cell_type": "code",
   "execution_count": 43,
   "metadata": {},
   "outputs": [
    {
     "name": "stdout",
     "output_type": "stream",
     "text": [
      "0\n"
     ]
    }
   ],
   "source": [
    "print(len(results[\"results\"][\"bindings\"]))\n",
    "for result in results[\"results\"][\"bindings\"]:\n",
    "    print(result)\n"
   ]
  }
 ],
 "metadata": {
  "interpreter": {
   "hash": "367e555037b6953175dc598568f8ccb20b1c43f20b24e97d93d8bdbafd4483f0"
  },
  "kernelspec": {
   "display_name": "Python 3.9.7 64-bit ('rdftest2': conda)",
   "name": "python3"
  },
  "language_info": {
   "codemirror_mode": {
    "name": "ipython",
    "version": 3
   },
   "file_extension": ".py",
   "mimetype": "text/x-python",
   "name": "python",
   "nbconvert_exporter": "python",
   "pygments_lexer": "ipython3",
   "version": "3.9.7"
  },
  "orig_nbformat": 4
 },
 "nbformat": 4,
 "nbformat_minor": 2
}
